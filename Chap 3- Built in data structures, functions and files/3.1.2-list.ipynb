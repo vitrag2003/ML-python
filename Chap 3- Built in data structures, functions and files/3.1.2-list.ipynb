{
 "cells": [
  {
   "cell_type": "code",
   "execution_count": 1,
   "id": "d60f80db",
   "metadata": {},
   "outputs": [],
   "source": [
    "a_list = [2, 3, 7, None]\n",
    "tup = (\"foo\", \"bar\", \"baz\")"
   ]
  },
  {
   "cell_type": "code",
   "execution_count": 2,
   "id": "12ca6f60",
   "metadata": {},
   "outputs": [
    {
     "data": {
      "text/plain": [
       "['foo', 'bar', 'baz']"
      ]
     },
     "execution_count": 2,
     "metadata": {},
     "output_type": "execute_result"
    }
   ],
   "source": [
    "b_list = list(tup)\n",
    "b_list"
   ]
  },
  {
   "cell_type": "code",
   "execution_count": 3,
   "id": "dbafcaa6",
   "metadata": {},
   "outputs": [
    {
     "data": {
      "text/plain": [
       "['foo', 'peekaboo', 'baz']"
      ]
     },
     "execution_count": 3,
     "metadata": {},
     "output_type": "execute_result"
    }
   ],
   "source": [
    "b_list[1] = \"peekaboo\"\n",
    "b_list"
   ]
  },
  {
   "cell_type": "code",
   "execution_count": 4,
   "id": "6d7272d1",
   "metadata": {},
   "outputs": [
    {
     "data": {
      "text/plain": [
       "[0, 1, 2, 3, 4, 5, 6, 7, 8, 9]"
      ]
     },
     "execution_count": 4,
     "metadata": {},
     "output_type": "execute_result"
    }
   ],
   "source": [
    "gen=range(10)\n",
    "list(gen)"
   ]
  },
  {
   "cell_type": "code",
   "execution_count": 5,
   "id": "909dce9e",
   "metadata": {},
   "outputs": [],
   "source": [
    "#Adding the elements to the tuple\n",
    "b_list.append(\"dwarf\")"
   ]
  },
  {
   "cell_type": "code",
   "execution_count": 6,
   "id": "274fd6aa",
   "metadata": {},
   "outputs": [
    {
     "data": {
      "text/plain": [
       "['foo', 'peekaboo', 'baz', 'dwarf']"
      ]
     },
     "execution_count": 6,
     "metadata": {},
     "output_type": "execute_result"
    }
   ],
   "source": [
    "b_list"
   ]
  },
  {
   "cell_type": "code",
   "execution_count": 7,
   "id": "64ccba76",
   "metadata": {},
   "outputs": [
    {
     "data": {
      "text/plain": [
       "['foo', 'red', 'peekaboo', 'baz', 'dwarf']"
      ]
     },
     "execution_count": 7,
     "metadata": {},
     "output_type": "execute_result"
    }
   ],
   "source": [
    "b_list.insert(1, \"red\")\n",
    "b_list"
   ]
  },
  {
   "cell_type": "code",
   "execution_count": 8,
   "id": "f698274c",
   "metadata": {},
   "outputs": [
    {
     "data": {
      "text/plain": [
       "'peekaboo'"
      ]
     },
     "execution_count": 8,
     "metadata": {},
     "output_type": "execute_result"
    }
   ],
   "source": [
    "#The inverse operation to insert is pop, which removes and returns an element at a particular index:\n",
    "b_list.pop(2)"
   ]
  },
  {
   "cell_type": "code",
   "execution_count": 9,
   "id": "c1b8ab11",
   "metadata": {},
   "outputs": [
    {
     "data": {
      "text/plain": [
       "['foo', 'red', 'baz', 'dwarf']"
      ]
     },
     "execution_count": 9,
     "metadata": {},
     "output_type": "execute_result"
    }
   ],
   "source": [
    "b_list"
   ]
  },
  {
   "cell_type": "code",
   "execution_count": 10,
   "id": "e751c198",
   "metadata": {},
   "outputs": [
    {
     "data": {
      "text/plain": [
       "['red', 'baz', 'dwarf', 'foo']"
      ]
     },
     "execution_count": 10,
     "metadata": {},
     "output_type": "execute_result"
    }
   ],
   "source": [
    "#Elements can be removed by value with remove, which locates the first such value and removes it from the list:\n",
    "b_list.append(\"foo\")\n",
    "b_list.remove(\"foo\")\n",
    "b_list"
   ]
  },
  {
   "cell_type": "code",
   "execution_count": 11,
   "id": "559a97c8",
   "metadata": {},
   "outputs": [
    {
     "data": {
      "text/plain": [
       "True"
      ]
     },
     "execution_count": 11,
     "metadata": {},
     "output_type": "execute_result"
    }
   ],
   "source": [
    "#Check if a list contains a value using the in keyword:\n",
    "\"dwarf\" in b_list"
   ]
  },
  {
   "cell_type": "code",
   "execution_count": 12,
   "id": "1c6b8cd4",
   "metadata": {},
   "outputs": [
    {
     "data": {
      "text/plain": [
       "[4, None, 'foo', 7, 8, (2, 3)]"
      ]
     },
     "execution_count": 12,
     "metadata": {},
     "output_type": "execute_result"
    }
   ],
   "source": [
    "#Concatenating and combining lists\n",
    "[4, None, \"foo\"] + [7, 8, (2, 3)]"
   ]
  },
  {
   "cell_type": "code",
   "execution_count": 13,
   "id": "1179a9f1",
   "metadata": {},
   "outputs": [],
   "source": [
    "#If you have a list already defined, you can append multiple elements to it using the extend method:\n",
    "x = [4, None, \"foo\"]\n",
    "x.extend([7, 8, (2, 3)])"
   ]
  },
  {
   "cell_type": "code",
   "execution_count": 14,
   "id": "ced4e5f1",
   "metadata": {},
   "outputs": [
    {
     "data": {
      "text/plain": [
       "[4, None, 'foo', 7, 8, (2, 3)]"
      ]
     },
     "execution_count": 14,
     "metadata": {},
     "output_type": "execute_result"
    }
   ],
   "source": [
    "x"
   ]
  },
  {
   "cell_type": "code",
   "execution_count": 15,
   "id": "a7c04a94",
   "metadata": {},
   "outputs": [
    {
     "data": {
      "text/plain": [
       "[1, 2, 3, 5, 7]"
      ]
     },
     "execution_count": 15,
     "metadata": {},
     "output_type": "execute_result"
    }
   ],
   "source": [
    "#SORTING\n",
    "a = [7, 2, 5, 1, 3]\n",
    "a.sort()\n",
    "a"
   ]
  },
  {
   "cell_type": "code",
   "execution_count": 16,
   "id": "733eccfe",
   "metadata": {},
   "outputs": [
    {
     "data": {
      "text/plain": [
       "['He', 'saw', 'six', 'small', 'foxes']"
      ]
     },
     "execution_count": 16,
     "metadata": {},
     "output_type": "execute_result"
    }
   ],
   "source": [
    "b = [\"saw\", \"small\", \"He\", \"foxes\", \"six\"]\n",
    "b.sort(key=len) #sorts the list based on the length of every element \n",
    "b"
   ]
  },
  {
   "cell_type": "code",
   "execution_count": null,
   "id": "8d5404d2",
   "metadata": {},
   "outputs": [],
   "source": []
  }
 ],
 "metadata": {
  "kernelspec": {
   "display_name": "Python 3 (ipykernel)",
   "language": "python",
   "name": "python3"
  },
  "language_info": {
   "codemirror_mode": {
    "name": "ipython",
    "version": 3
   },
   "file_extension": ".py",
   "mimetype": "text/x-python",
   "name": "python",
   "nbconvert_exporter": "python",
   "pygments_lexer": "ipython3",
   "version": "3.9.5"
  }
 },
 "nbformat": 4,
 "nbformat_minor": 5
}
