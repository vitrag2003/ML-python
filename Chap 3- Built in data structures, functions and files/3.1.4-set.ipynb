{
 "cells": [
  {
   "cell_type": "code",
   "execution_count": 3,
   "id": "06038bcd",
   "metadata": {},
   "outputs": [
    {
     "data": {
      "text/plain": [
       "{1, 2, 3}"
      ]
     },
     "execution_count": 3,
     "metadata": {},
     "output_type": "execute_result"
    }
   ],
   "source": [
    "#A set is an unordered collection of unique elements. \n",
    "set([2,2,2,1,3,3])"
   ]
  },
  {
   "cell_type": "code",
   "execution_count": 4,
   "id": "69e05674",
   "metadata": {},
   "outputs": [
    {
     "data": {
      "text/plain": [
       "{1, 2, 3, 4, 5, 6, 7, 8}"
      ]
     },
     "execution_count": 4,
     "metadata": {},
     "output_type": "execute_result"
    }
   ],
   "source": [
    "a={1,2,3,4,5}\n",
    "b={3,4,5,6,7,8}\n",
    "a.union(b)"
   ]
  },
  {
   "cell_type": "code",
   "execution_count": 5,
   "id": "03aec534",
   "metadata": {},
   "outputs": [
    {
     "data": {
      "text/plain": [
       "{3, 4, 5}"
      ]
     },
     "execution_count": 5,
     "metadata": {},
     "output_type": "execute_result"
    }
   ],
   "source": [
    "a.intersection(b)"
   ]
  },
  {
   "cell_type": "code",
   "execution_count": 6,
   "id": "214026e4",
   "metadata": {},
   "outputs": [
    {
     "data": {
      "text/plain": [
       "{(1, 2, 3, 4)}"
      ]
     },
     "execution_count": 6,
     "metadata": {},
     "output_type": "execute_result"
    }
   ],
   "source": [
    "#converting a list into set \n",
    "my_data = [1, 2, 3, 4]\n",
    "my_set = {tuple(my_data)} #set elementsmust be immutable\n",
    "my_set"
   ]
  },
  {
   "cell_type": "code",
   "execution_count": null,
   "id": "b7b60575",
   "metadata": {},
   "outputs": [],
   "source": []
  }
 ],
 "metadata": {
  "kernelspec": {
   "display_name": "Python 3 (ipykernel)",
   "language": "python",
   "name": "python3"
  },
  "language_info": {
   "codemirror_mode": {
    "name": "ipython",
    "version": 3
   },
   "file_extension": ".py",
   "mimetype": "text/x-python",
   "name": "python",
   "nbconvert_exporter": "python",
   "pygments_lexer": "ipython3",
   "version": "3.9.5"
  }
 },
 "nbformat": 4,
 "nbformat_minor": 5
}
