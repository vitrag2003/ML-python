{
 "cells": [
  {
   "cell_type": "markdown",
   "id": "a9c0783f",
   "metadata": {},
   "source": [
    "One of the key features of NumPy is its N-dimensional array object, or ndarray, which is a fast, flexible container for large datasets in Python. Arrays enable you to perform mathematical operations on whole blocks of data using similar syntax to the equivalent operations between scalar elements."
   ]
  },
  {
   "cell_type": "code",
   "execution_count": 1,
   "id": "fc85e938",
   "metadata": {},
   "outputs": [],
   "source": [
    "import numpy as np"
   ]
  },
  {
   "cell_type": "code",
   "execution_count": 2,
   "id": "e2f02a13",
   "metadata": {},
   "outputs": [
    {
     "data": {
      "text/plain": [
       "array([[ 1.5, -0.1,  3. ],\n",
       "       [ 0. , -3. ,  6.5]])"
      ]
     },
     "execution_count": 2,
     "metadata": {},
     "output_type": "execute_result"
    }
   ],
   "source": [
    "data = np.array([[1.5, -0.1, 3], [0, -3, 6.5]])\n",
    "data"
   ]
  },
  {
   "cell_type": "code",
   "execution_count": 3,
   "id": "413782bd",
   "metadata": {},
   "outputs": [
    {
     "data": {
      "text/plain": [
       "array([[ 15.,  -1.,  30.],\n",
       "       [  0., -30.,  65.]])"
      ]
     },
     "execution_count": 3,
     "metadata": {},
     "output_type": "execute_result"
    }
   ],
   "source": [
    "data * 10"
   ]
  },
  {
   "cell_type": "code",
   "execution_count": 4,
   "id": "659bbd03",
   "metadata": {},
   "outputs": [
    {
     "data": {
      "text/plain": [
       "array([[ 3. , -0.2,  6. ],\n",
       "       [ 0. , -6. , 13. ]])"
      ]
     },
     "execution_count": 4,
     "metadata": {},
     "output_type": "execute_result"
    }
   ],
   "source": [
    "data+data"
   ]
  },
  {
   "cell_type": "code",
   "execution_count": 5,
   "id": "8295343d",
   "metadata": {},
   "outputs": [
    {
     "data": {
      "text/plain": [
       "(2, 3)"
      ]
     },
     "execution_count": 5,
     "metadata": {},
     "output_type": "execute_result"
    }
   ],
   "source": [
    "data.shape"
   ]
  },
  {
   "cell_type": "code",
   "execution_count": 6,
   "id": "4e7631ec",
   "metadata": {},
   "outputs": [
    {
     "data": {
      "text/plain": [
       "dtype('float64')"
      ]
     },
     "execution_count": 6,
     "metadata": {},
     "output_type": "execute_result"
    }
   ],
   "source": [
    "data.dtype"
   ]
  },
  {
   "cell_type": "code",
   "execution_count": 7,
   "id": "a432040c",
   "metadata": {},
   "outputs": [],
   "source": [
    "data1=[6,7.5,8,0,1]\n",
    "arr1=np.array(data1)"
   ]
  },
  {
   "cell_type": "code",
   "execution_count": 8,
   "id": "55ee02c3",
   "metadata": {},
   "outputs": [
    {
     "data": {
      "text/plain": [
       "array([6. , 7.5, 8. , 0. , 1. ])"
      ]
     },
     "execution_count": 8,
     "metadata": {},
     "output_type": "execute_result"
    }
   ],
   "source": [
    "arr1"
   ]
  },
  {
   "cell_type": "code",
   "execution_count": 9,
   "id": "fa35ef88",
   "metadata": {},
   "outputs": [
    {
     "data": {
      "text/plain": [
       "array([[1, 2, 3, 4],\n",
       "       [5, 6, 7, 8]])"
      ]
     },
     "execution_count": 9,
     "metadata": {},
     "output_type": "execute_result"
    }
   ],
   "source": [
    "data2 = [[1, 2, 3, 4], [5, 6, 7, 8]] \n",
    "arr2=np.array(data2) #multidimentional array\n",
    "arr2"
   ]
  },
  {
   "cell_type": "code",
   "execution_count": 10,
   "id": "c7073e9a",
   "metadata": {},
   "outputs": [
    {
     "data": {
      "text/plain": [
       "2"
      ]
     },
     "execution_count": 10,
     "metadata": {},
     "output_type": "execute_result"
    }
   ],
   "source": [
    "arr2.ndim #ndim- n dimentional"
   ]
  },
  {
   "cell_type": "markdown",
   "id": "881eee40",
   "metadata": {},
   "source": [
    "numpy.array tries to infer a good data type for the array that it creates. The data type is stored in a special dtype metadata object"
   ]
  },
  {
   "cell_type": "code",
   "execution_count": 11,
   "id": "2d1aa802",
   "metadata": {},
   "outputs": [
    {
     "data": {
      "text/plain": [
       "array([ 0,  1,  2,  3,  4,  5,  6,  7,  8,  9, 10, 11, 12, 13, 14])"
      ]
     },
     "execution_count": 11,
     "metadata": {},
     "output_type": "execute_result"
    }
   ],
   "source": [
    "np.arange(15) #numpy.arange is an array-valued version of the built-in Python range function"
   ]
  },
  {
   "cell_type": "markdown",
   "id": "ee89bc4c",
   "metadata": {},
   "source": [
    "DATA TYPE FOR ndarrays\n"
   ]
  },
  {
   "cell_type": "code",
   "execution_count": 12,
   "id": "5909a5b9",
   "metadata": {},
   "outputs": [],
   "source": [
    "arr1 = np.array([1, 2, 3], dtype=np.float64)\n",
    "arr2 = np.array([1, 2, 3], dtype=np.int32)"
   ]
  },
  {
   "cell_type": "code",
   "execution_count": 13,
   "id": "4f0c0f94",
   "metadata": {},
   "outputs": [
    {
     "data": {
      "text/plain": [
       "dtype('float64')"
      ]
     },
     "execution_count": 13,
     "metadata": {},
     "output_type": "execute_result"
    }
   ],
   "source": [
    "arr1.dtype"
   ]
  },
  {
   "cell_type": "code",
   "execution_count": 23,
   "id": "ac52700a",
   "metadata": {},
   "outputs": [
    {
     "data": {
      "text/plain": [
       "dtype('int32')"
      ]
     },
     "execution_count": 23,
     "metadata": {},
     "output_type": "execute_result"
    }
   ],
   "source": [
    "arr2.dtype"
   ]
  },
  {
   "cell_type": "markdown",
   "id": "7ca59402",
   "metadata": {},
   "source": [
    "You can explicitly convert or cast an array from one data type to another using ndarray’s astype method:\n",
    "In [37]: arr = np.array([1, 2, 3, 4, 5])\n",
    "\n",
    "In [38]: arr.dtype\n",
    "Out[38]: dtype('int64')\n",
    "\n",
    "In [39]: float_arr = arr.astype(np.float64)\n",
    "\n",
    "In [40]: float_arr\n",
    "Out[40]: array([1., 2., 3., 4., 5.])\n",
    "\n",
    "In [41]: float_arr.dtype\n",
    "Out[41]: dtype('float64')"
   ]
  },
  {
   "cell_type": "markdown",
   "id": "8ae8bd41",
   "metadata": {},
   "source": [
    "In this example, integers were cast to floating point. If I cast some floating-point numbers to be of integer data type, the decimal part will be truncated:\n",
    "In [42]: arr = np.array([3.7, -1.2, -2.6, 0.5, 12.9, 10.1])\n",
    "\n",
    "In [43]: arr\n",
    "Out[43]: array([ 3.7, -1.2, -2.6,  0.5, 12.9, 10.1])\n",
    "\n",
    "In [44]: arr.astype(np.int32)\n",
    "Out[44]: array([ 3, -1, -2,  0, 12, 10], dtype=int32)"
   ]
  },
  {
   "cell_type": "markdown",
   "id": "0b29efea",
   "metadata": {},
   "source": [
    "If you have an array of strings representing numbers, you can use astype to convert them to numeric form:\n",
    "In [45]: numeric_strings = np.array([\"1.25\", \"-9.6\", \"42\"], dtype=np.string_)\n",
    "\n",
    "In [46]: numeric_strings.astype(float)\n",
    "Out[46]: array([ 1.25, -9.6 , 42.  ])"
   ]
  },
  {
   "cell_type": "markdown",
   "id": "ce2732c7",
   "metadata": {},
   "source": [
    "If casting were to fail for some reason (like a string that cannot be converted to float64), a ValueError will be raised. Before, I was a bit lazy and wrote float instead of np.float64; NumPy aliases the Python types to its own equivalent data types.\n",
    "\n",
    "You can also use another array’s dtype attribute:\n",
    "    In [47]: int_array = np.arange(10)\n",
    "\n",
    "In [48]: calibers = np.array([.22, .270, .357, .380, .44, .50], dtype=np.float64)\n",
    "\n",
    "In [49]: int_array.astype(calibers.dtype)\n",
    "Out[49]: array([0., 1., 2., 3., 4., 5., 6., 7., 8., 9.])"
   ]
  },
  {
   "cell_type": "code",
   "execution_count": null,
   "id": "01daa571",
   "metadata": {},
   "outputs": [],
   "source": []
  }
 ],
 "metadata": {
  "kernelspec": {
   "display_name": "Python 3 (ipykernel)",
   "language": "python",
   "name": "python3"
  },
  "language_info": {
   "codemirror_mode": {
    "name": "ipython",
    "version": 3
   },
   "file_extension": ".py",
   "mimetype": "text/x-python",
   "name": "python",
   "nbconvert_exporter": "python",
   "pygments_lexer": "ipython3",
   "version": "3.9.5"
  }
 },
 "nbformat": 4,
 "nbformat_minor": 5
}
